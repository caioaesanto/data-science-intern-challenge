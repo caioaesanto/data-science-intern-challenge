{
 "cells": [
  {
   "cell_type": "markdown",
   "id": "17b67dfb-b386-4b69-ba72-0e37f037fbd3",
   "metadata": {},
   "source": [
    "## Enunciado\n",
    "\n",
    "Neste notebook temos um problema clássico de Ciência de Dados, precisamos descobrir o preço do milho em um conjunto de cidades do Brasil. Contudo temos um problema sério, a única informação que temos hoje é a posição da cidade e o preço histórico dela, nossa modelagem não poderá se utilizar do preço atual, você ficará livre para propor fontes de informações que possam ser úteis na descoberta do preço do milho.\n",
    "\n",
    "O notebook já está estruturado no formato padrão, algumas células estarão vazias e com um comentário do é esperado que seja feito naquele trecho. \n",
    "\n",
    "Você tem total liberdade de adicionar nova células e criar novas ideias para o seu código, peço somente que mantenha as partes do código que já estão escritas pois elas servem para guiar o formato final do notebook\n",
    "\n",
    "Não se preocupe, caso alguma parte não funciona, pode adicionar um comentário ou alguma observação de qual foi o problema enferentado, mas lembre-se de sempre detalhar o seu pensamento, ele vale mais do que uma sintaxe errada no código!\n",
    "\n",
    "Boa Sorte!"
   ]
  },
  {
   "cell_type": "code",
   "execution_count": null,
   "id": "67be4c7b-1c8b-42b2-854b-c5b6b3922cfa",
   "metadata": {},
   "outputs": [],
   "source": [
    "# Bibliotecas\n",
    "\n",
    "import pandas as pd\n",
    "import lightgbm as lgb"
   ]
  },
  {
   "cell_type": "code",
   "execution_count": null,
   "id": "20baf2c9-2cbb-4aa8-b5bd-dfa0a68d3e0e",
   "metadata": {},
   "outputs": [],
   "source": [
    "# Leitura dos dados originais\n",
    "\n",
    "df = pd.read_csv('Data/real_prices.csv')\n",
    "df.head()"
   ]
  },
  {
   "cell_type": "markdown",
   "id": "887b506a-869f-4455-ba47-2ab08fc21435",
   "metadata": {},
   "source": [
    "No primeiro momento nós precisamos definir quais serão as novas fontes de dados, para isso fica a cargo de você escolher se utilizará outras fontes de dados, ou se podemos seguir somente com as iniciais.\n",
    "\n",
    "Caso decida por adicionar novas informações basta seguir o código a seguir que demonstra como adicionar novas informação ao DF original"
   ]
  },
  {
   "cell_type": "code",
   "execution_count": null,
   "id": "139ec027-f916-40c1-bffb-b1856fec6f30",
   "metadata": {},
   "outputs": [],
   "source": [
    "locations = pd.read_csv('Data/cities_location.csv')\n",
    "\n",
    "df = df.merge(locations, left_on=['city_id'], right_on=['id'], how='left')\n",
    "df = df.drop(columns=['id'])\n",
    "\n",
    "# Caso tenha outras fontes de dados basta seguir o padrão\n",
    "# nova_fonte = pd.read_csv('arquivo')\n",
    "# df = df.merge(nova_fonte, left_on=['chave_no_df'], right_on=['chave_na_nova_fonte'], how='left')\n",
    "df.head()"
   ]
  },
  {
   "cell_type": "markdown",
   "id": "9d8d5a25-5f47-43ac-bab0-6a88c180aaa8",
   "metadata": {},
   "source": [
    "Precisamos dividir o DF entre o que será meu treino e o que será meu teste, assim cabe a você definir como dividir esse dado entre treino e teste, qual o conjunto será utilizado para treino e qual será utilizado para teste (lembrando que a mesma cidade aparece várias vezes, já que temos vários dias)"
   ]
  },
  {
   "cell_type": "code",
   "execution_count": null,
   "id": "d9c91903-146a-42ec-a199-0c5336a68e63",
   "metadata": {},
   "outputs": [],
   "source": [
    "#df_train = \n",
    "#df_test = "
   ]
  },
  {
   "cell_type": "markdown",
   "id": "eaafc3ed-5f9a-475b-911d-2117e9019f7d",
   "metadata": {},
   "source": [
    "Por fim separamos o target do conjunto de entrada, para isso basta selecionar a coluna que servirá de target no Y e remover a mesma do X"
   ]
  },
  {
   "cell_type": "code",
   "execution_count": null,
   "id": "f93db37a-0723-4298-bf3e-237a77b8b9c8",
   "metadata": {},
   "outputs": [],
   "source": [
    "# Coloque o nome da coluna na variável abaixo\n",
    "\n",
    "target_col = ''\n",
    "y = df_train[target_col]\n",
    "X = df_train.drop(['city_id', 'reference_date', target_col])\n",
    "\n",
    "# Cria modelo\n",
    "lgbm_model = lgb.LGBMRegressor()\n",
    "lgbm_model.fit(X, y)\n",
    "\n",
    "# Predição\n",
    "y_test = df_test[target_col]\n",
    "X_test = df_test.drop(['city_id', 'reference_date', target_col])\n",
    "predicted = lgbm_model.predict(X_test)\n",
    "\n",
    "# Calcula erro\n",
    "lgbm_mae  = mean_absolute_error(y_test, predicted)\n",
    "lgbm_rmse = mean_squared_error(y_test, predicted, squared=False)\n",
    "\n",
    "print(\"MAE =\", lgbm_mae)\n",
    "print(\"RMSE =\", lgbm_rmse)"
   ]
  },
  {
   "cell_type": "markdown",
   "id": "80e96a0b-074f-4379-bbeb-fad1e0c07205",
   "metadata": {},
   "source": [
    "Fique a vontade para adicionar novas células com mais conteúdos da sua preferência a partir daqui, caso tenha algum insight interessante que ficaria fora da estrutura original basta adicionar e comentar"
   ]
  },
  {
   "cell_type": "code",
   "execution_count": null,
   "id": "70bedc9d-44ee-4174-8dd6-485552a23d2d",
   "metadata": {},
   "outputs": [],
   "source": []
  }
 ],
 "metadata": {
  "kernelspec": {
   "display_name": "Python 3 (ipykernel)",
   "language": "python",
   "name": "python3"
  },
  "language_info": {
   "codemirror_mode": {
    "name": "ipython",
    "version": 3
   },
   "file_extension": ".py",
   "mimetype": "text/x-python",
   "name": "python",
   "nbconvert_exporter": "python",
   "pygments_lexer": "ipython3",
   "version": "3.7.11"
  }
 },
 "nbformat": 4,
 "nbformat_minor": 5
}
